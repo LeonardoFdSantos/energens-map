{
 "cells": [
  {
   "cell_type": "code",
   "execution_count": 8,
   "metadata": {},
   "outputs": [],
   "source": [
    "import pandas as pd\r\n",
    "import numpy as np\r\n",
    "import folium\r\n",
    "from folium import plugins"
   ]
  },
  {
   "cell_type": "code",
   "execution_count": 9,
   "metadata": {
    "collapsed": false,
    "jupyter": {
     "outputs_hidden": false
    },
    "pycharm": {
     "name": "#%%\n"
    }
   },
   "outputs": [],
   "source": [
    "maps = pd.read_excel('localização clientes.xlsx')\r\n",
    "maps = maps"
   ]
  },
  {
   "cell_type": "code",
   "execution_count": 10,
   "metadata": {
    "collapsed": false,
    "jupyter": {
     "outputs_hidden": false
    },
    "pycharm": {
     "name": "#%%\n"
    }
   },
   "outputs": [],
   "source": [
    "coordenadas = []\n",
    "for lat, lng in zip(maps.latitude.values[:206],maps.longitude.values[:206]):\n",
    "    coordenadas.append([lat,lng])"
   ]
  },
  {
   "cell_type": "code",
   "execution_count": 11,
   "metadata": {
    "collapsed": false,
    "jupyter": {
     "outputs_hidden": false
    },
    "pycharm": {
     "name": "#%%\n"
    }
   },
   "outputs": [],
   "source": [
    "mapa = folium.Map(\n",
    "    location=[-28.647261313574163, -52.859119684070976],\n",
    "    tiles=\"OpenStreetMap\",\n",
    "    zoom_start=7\n",
    ")"
   ]
  },
  {
   "cell_type": "code",
   "execution_count": 12,
   "metadata": {
    "collapsed": false,
    "jupyter": {
     "outputs_hidden": false
    },
    "pycharm": {
     "name": "#%%\n"
    }
   },
   "outputs": [],
   "source": [
    "mc = plugins.MarkerCluster()"
   ]
  },
  {
   "cell_type": "code",
   "execution_count": 13,
   "metadata": {},
   "outputs": [
    {
     "ename": "SyntaxError",
     "evalue": "invalid syntax (<ipython-input-13-fb52b3fb95e2>, line 3)",
     "output_type": "error",
     "traceback": [
      "\u001b[1;36m  File \u001b[1;32m\"<ipython-input-13-fb52b3fb95e2>\"\u001b[1;36m, line \u001b[1;32m3\u001b[0m\n\u001b[1;33m    popup=(\"Quantidade de módulos: \"+ str(creche['modules_number']) + \", Potência Total: \"+ str(creche['power_total']), width=100, height=100),\u001b[0m\n\u001b[1;37m                                                                                                                             ^\u001b[0m\n\u001b[1;31mSyntaxError\u001b[0m\u001b[1;31m:\u001b[0m invalid syntax\n"
     ]
    }
   ],
   "source": [
    "for index, creche in maps.iterrows():\r\n",
    "      valores = folium.Popup(\"Quantidade de módulos: \"+ str(creche['modules_number']) + \", Potência Total: \"+ str(creche['power_total']), \r\n",
    "                  width=100,\r\n",
    "                  height=100))\r\n",
    "  mc.add_child(folium.Marker([creche['latitude'], creche['longitude']], \r\n",
    "              popup=(valores),\r\n",
    "              tooltip=creche['cliente'],\r\n",
    "              icon=folium.Icon(color='red',icon=\"angle-double-down\", prefix='fa'))).add_to(mapa)"
   ]
  },
  {
   "cell_type": "code",
   "execution_count": 7,
   "metadata": {},
   "outputs": [],
   "source": [
    "mapa.save(outfile= \"index.html\")"
   ]
  },
  {
   "cell_type": "code",
   "execution_count": null,
   "metadata": {},
   "outputs": [],
   "source": []
  }
 ],
 "metadata": {
  "kernelspec": {
   "display_name": "Python 3.8.7 64-bit ('projetos': venv)",
   "name": "python387jvsc74a57bd0e034065b7d23ba4cb595d6b4aa5b175437467a2bf0b729030926a1ced0ee3b20"
  },
  "language_info": {
   "codemirror_mode": {
    "name": "ipython",
    "version": 3
   },
   "file_extension": ".py",
   "mimetype": "text/x-python",
   "name": "python",
   "nbconvert_exporter": "python",
   "pygments_lexer": "ipython3",
   "version": "3.8.7"
  }
 },
 "nbformat": 4,
 "nbformat_minor": 4
}