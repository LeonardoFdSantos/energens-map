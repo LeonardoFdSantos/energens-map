{
 "cells": [
  {
   "cell_type": "code",
   "execution_count": 1,
   "metadata": {},
   "outputs": [],
   "source": [
    "import pandas as pd\r\n",
    "import numpy as np\r\n",
    "import folium\r\n",
    "from folium import plugins"
   ]
  },
  {
   "cell_type": "code",
   "execution_count": 2,
   "metadata": {
    "collapsed": false,
    "jupyter": {
     "outputs_hidden": false
    },
    "pycharm": {
     "name": "#%%\n"
    }
   },
   "outputs": [
    {
     "data": {
      "text/html": [
       "<div>\n",
       "<style scoped>\n",
       "    .dataframe tbody tr th:only-of-type {\n",
       "        vertical-align: middle;\n",
       "    }\n",
       "\n",
       "    .dataframe tbody tr th {\n",
       "        vertical-align: top;\n",
       "    }\n",
       "\n",
       "    .dataframe thead th {\n",
       "        text-align: right;\n",
       "    }\n",
       "</style>\n",
       "<table border=\"1\" class=\"dataframe\">\n",
       "  <thead>\n",
       "    <tr style=\"text-align: right;\">\n",
       "      <th></th>\n",
       "      <th>id</th>\n",
       "      <th>cliente</th>\n",
       "      <th>projeto</th>\n",
       "      <th>latitude</th>\n",
       "      <th>longitude</th>\n",
       "      <th>modules_number</th>\n",
       "      <th>modules_power</th>\n",
       "      <th>power_total</th>\n",
       "    </tr>\n",
       "  </thead>\n",
       "  <tbody>\n",
       "    <tr>\n",
       "      <th>0</th>\n",
       "      <td>1</td>\n",
       "      <td>Marlon Colovini</td>\n",
       "      <td>130000</td>\n",
       "      <td>-28.307646</td>\n",
       "      <td>-54.273385</td>\n",
       "      <td>14</td>\n",
       "      <td>325.0</td>\n",
       "      <td>4.550</td>\n",
       "    </tr>\n",
       "    <tr>\n",
       "      <th>1</th>\n",
       "      <td>2</td>\n",
       "      <td>Mara Barichello</td>\n",
       "      <td>130003</td>\n",
       "      <td>-28.336821</td>\n",
       "      <td>-54.276491</td>\n",
       "      <td>11</td>\n",
       "      <td>270.0</td>\n",
       "      <td>2.970</td>\n",
       "    </tr>\n",
       "    <tr>\n",
       "      <th>2</th>\n",
       "      <td>3</td>\n",
       "      <td>Jandira Dutra</td>\n",
       "      <td>130007</td>\n",
       "      <td>-28.529051</td>\n",
       "      <td>-54.147971</td>\n",
       "      <td>7</td>\n",
       "      <td>270.0</td>\n",
       "      <td>1.890</td>\n",
       "    </tr>\n",
       "    <tr>\n",
       "      <th>3</th>\n",
       "      <td>4</td>\n",
       "      <td>Luiz Fernando Kruger</td>\n",
       "      <td>130018</td>\n",
       "      <td>-28.319281</td>\n",
       "      <td>-54.263504</td>\n",
       "      <td>10</td>\n",
       "      <td>330.0</td>\n",
       "      <td>3.300</td>\n",
       "    </tr>\n",
       "    <tr>\n",
       "      <th>4</th>\n",
       "      <td>5</td>\n",
       "      <td>Paulo Bohn</td>\n",
       "      <td>130035</td>\n",
       "      <td>-28.299249</td>\n",
       "      <td>-54.259248</td>\n",
       "      <td>24</td>\n",
       "      <td>270.0</td>\n",
       "      <td>6.480</td>\n",
       "    </tr>\n",
       "    <tr>\n",
       "      <th>...</th>\n",
       "      <td>...</td>\n",
       "      <td>...</td>\n",
       "      <td>...</td>\n",
       "      <td>...</td>\n",
       "      <td>...</td>\n",
       "      <td>...</td>\n",
       "      <td>...</td>\n",
       "      <td>...</td>\n",
       "    </tr>\n",
       "    <tr>\n",
       "      <th>246</th>\n",
       "      <td>248</td>\n",
       "      <td>Vicente Simon Haas                           ...</td>\n",
       "      <td>131366</td>\n",
       "      <td>-28.296643</td>\n",
       "      <td>-54.265051</td>\n",
       "      <td>13</td>\n",
       "      <td>445.0</td>\n",
       "      <td>5.785</td>\n",
       "    </tr>\n",
       "    <tr>\n",
       "      <th>247</th>\n",
       "      <td>250</td>\n",
       "      <td>Edivan Dalla Porta Frizzo                    ...</td>\n",
       "      <td>131372</td>\n",
       "      <td>-28.297403</td>\n",
       "      <td>-54.266583</td>\n",
       "      <td>14</td>\n",
       "      <td>445.0</td>\n",
       "      <td>6.230</td>\n",
       "    </tr>\n",
       "    <tr>\n",
       "      <th>248</th>\n",
       "      <td>251</td>\n",
       "      <td>Paulo Leal                                   ...</td>\n",
       "      <td>131375</td>\n",
       "      <td>-28.313055</td>\n",
       "      <td>-54.236432</td>\n",
       "      <td>30</td>\n",
       "      <td>445.0</td>\n",
       "      <td>13.350</td>\n",
       "    </tr>\n",
       "    <tr>\n",
       "      <th>249</th>\n",
       "      <td>253</td>\n",
       "      <td>Mário Luis Oliveira Dos Santos               ...</td>\n",
       "      <td>131384</td>\n",
       "      <td>-28.307959</td>\n",
       "      <td>-54.260753</td>\n",
       "      <td>11</td>\n",
       "      <td>445.0</td>\n",
       "      <td>4.895</td>\n",
       "    </tr>\n",
       "    <tr>\n",
       "      <th>250</th>\n",
       "      <td>254</td>\n",
       "      <td>Simone Posser Kruger</td>\n",
       "      <td>131387</td>\n",
       "      <td>-28.319731</td>\n",
       "      <td>-54.269727</td>\n",
       "      <td>9</td>\n",
       "      <td>445.0</td>\n",
       "      <td>4.005</td>\n",
       "    </tr>\n",
       "  </tbody>\n",
       "</table>\n",
       "<p>251 rows × 8 columns</p>\n",
       "</div>"
      ],
      "text/plain": [
       "      id                                            cliente  projeto  \\\n",
       "0      1                                    Marlon Colovini   130000   \n",
       "1      2                                    Mara Barichello   130003   \n",
       "2      3                                      Jandira Dutra   130007   \n",
       "3      4                               Luiz Fernando Kruger   130018   \n",
       "4      5                                         Paulo Bohn   130035   \n",
       "..   ...                                                ...      ...   \n",
       "246  248   Vicente Simon Haas                           ...   131366   \n",
       "247  250   Edivan Dalla Porta Frizzo                    ...   131372   \n",
       "248  251   Paulo Leal                                   ...   131375   \n",
       "249  253   Mário Luis Oliveira Dos Santos               ...   131384   \n",
       "250  254                               Simone Posser Kruger   131387   \n",
       "\n",
       "      latitude  longitude  modules_number  modules_power  power_total  \n",
       "0   -28.307646 -54.273385              14          325.0        4.550  \n",
       "1   -28.336821 -54.276491              11          270.0        2.970  \n",
       "2   -28.529051 -54.147971               7          270.0        1.890  \n",
       "3   -28.319281 -54.263504              10          330.0        3.300  \n",
       "4   -28.299249 -54.259248              24          270.0        6.480  \n",
       "..         ...        ...             ...            ...          ...  \n",
       "246 -28.296643 -54.265051              13          445.0        5.785  \n",
       "247 -28.297403 -54.266583              14          445.0        6.230  \n",
       "248 -28.313055 -54.236432              30          445.0       13.350  \n",
       "249 -28.307959 -54.260753              11          445.0        4.895  \n",
       "250 -28.319731 -54.269727               9          445.0        4.005  \n",
       "\n",
       "[251 rows x 8 columns]"
      ]
     },
     "execution_count": 2,
     "metadata": {},
     "output_type": "execute_result"
    }
   ],
   "source": [
    "maps = pd.read_excel('localização clientes.xlsx')\r\n",
    "maps = maps\r\n",
    "maps"
   ]
  },
  {
   "cell_type": "code",
   "execution_count": 3,
   "metadata": {
    "collapsed": false,
    "jupyter": {
     "outputs_hidden": false
    },
    "pycharm": {
     "name": "#%%\n"
    }
   },
   "outputs": [],
   "source": [
    "coordenadas = []\r\n",
    "for lat, lng in zip(maps.latitude.values[:999],maps.longitude.values[:999]):\r\n",
    "    coordenadas.append([lat,lng])"
   ]
  },
  {
   "cell_type": "code",
   "execution_count": 4,
   "metadata": {
    "collapsed": false,
    "jupyter": {
     "outputs_hidden": false
    },
    "pycharm": {
     "name": "#%%\n"
    }
   },
   "outputs": [],
   "source": [
    "mapa = folium.Map(\r\n",
    "    location=[-28.647261313574163, -52.859119684070976],\r\n",
    "    tiles=\"OpenStreetMap\",\r\n",
    "    zoom_start=7\r\n",
    ")"
   ]
  },
  {
   "cell_type": "code",
   "execution_count": 5,
   "metadata": {
    "collapsed": false,
    "jupyter": {
     "outputs_hidden": false
    },
    "pycharm": {
     "name": "#%%\n"
    }
   },
   "outputs": [],
   "source": [
    "mc = plugins.MarkerCluster()"
   ]
  },
  {
   "cell_type": "code",
   "execution_count": 6,
   "metadata": {},
   "outputs": [],
   "source": [
    "iconeEnergens = folium.features.CustomIcon('https://raw.githubusercontent.com/LeonardoFdSantos/energens-map/main/MarcadorEnergens.png',icon_size=(75,75), icon_anchor=(37.5, 72), popup_anchor=(0,-70))"
   ]
  },
  {
   "cell_type": "code",
   "execution_count": 7,
   "metadata": {},
   "outputs": [
    {
     "data": {
      "text/plain": [
       "<folium.plugins.marker_cluster.MarkerCluster at 0x1dafed2dc10>"
      ]
     },
     "execution_count": 7,
     "metadata": {},
     "output_type": "execute_result"
    }
   ],
   "source": [
    "mc.add_child(folium.Marker([-28.304145278783224, -54.26932129931],\r\n",
    "                  popup=\"Energens Energia Solar\",\r\n",
    "                  tooltip='Energens Energia Solar',\r\n",
    "                  icon=(iconeEnergens))).add_to(mapa)"
   ]
  },
  {
   "cell_type": "code",
   "execution_count": 8,
   "metadata": {},
   "outputs": [
    {
     "ename": "ValueError",
     "evalue": "Location values cannot contain NaNs.",
     "output_type": "error",
     "traceback": [
      "\u001b[1;31m---------------------------------------------------------------------------\u001b[0m",
      "\u001b[1;31mValueError\u001b[0m                                Traceback (most recent call last)",
      "\u001b[1;32m<ipython-input-8-3b3a562d7298>\u001b[0m in \u001b[0;36m<module>\u001b[1;34m\u001b[0m\n\u001b[0;32m      3\u001b[0m                   max_width=300)\n\u001b[0;32m      4\u001b[0m       \u001b[0miconeCliente\u001b[0m \u001b[1;33m=\u001b[0m \u001b[0mfolium\u001b[0m\u001b[1;33m.\u001b[0m\u001b[0mfeatures\u001b[0m\u001b[1;33m.\u001b[0m\u001b[0mCustomIcon\u001b[0m\u001b[1;33m(\u001b[0m\u001b[1;34m'https://raw.githubusercontent.com/LeonardoFdSantos/energens-map/main/MarcadorCliente_2.png'\u001b[0m\u001b[1;33m,\u001b[0m \u001b[0micon_size\u001b[0m\u001b[1;33m=\u001b[0m\u001b[1;33m(\u001b[0m\u001b[1;36m60\u001b[0m\u001b[1;33m,\u001b[0m\u001b[1;36m60\u001b[0m\u001b[1;33m)\u001b[0m\u001b[1;33m,\u001b[0m \u001b[0micon_anchor\u001b[0m\u001b[1;33m=\u001b[0m\u001b[1;33m(\u001b[0m\u001b[1;36m30\u001b[0m\u001b[1;33m,\u001b[0m\u001b[1;36m58\u001b[0m\u001b[1;33m)\u001b[0m\u001b[1;33m,\u001b[0m \u001b[0mpopup_anchor\u001b[0m\u001b[1;33m=\u001b[0m\u001b[1;33m(\u001b[0m\u001b[1;36m0\u001b[0m\u001b[1;33m,\u001b[0m\u001b[1;33m-\u001b[0m\u001b[1;36m55\u001b[0m\u001b[1;33m)\u001b[0m\u001b[1;33m)\u001b[0m\u001b[1;33m\u001b[0m\u001b[1;33m\u001b[0m\u001b[0m\n\u001b[1;32m----> 5\u001b[1;33m       mc.add_child(folium.Marker([creche['latitude'], creche['longitude']],\n\u001b[0m\u001b[0;32m      6\u001b[0m                   \u001b[0mpopup\u001b[0m\u001b[1;33m=\u001b[0m\u001b[1;33m(\u001b[0m\u001b[0mvalores\u001b[0m\u001b[1;33m)\u001b[0m\u001b[1;33m,\u001b[0m\u001b[1;33m\u001b[0m\u001b[1;33m\u001b[0m\u001b[0m\n\u001b[0;32m      7\u001b[0m                   \u001b[0mtooltip\u001b[0m\u001b[1;33m=\u001b[0m\u001b[0mcreche\u001b[0m\u001b[1;33m[\u001b[0m\u001b[1;34m'cliente'\u001b[0m\u001b[1;33m]\u001b[0m\u001b[1;33m,\u001b[0m\u001b[1;33m\u001b[0m\u001b[1;33m\u001b[0m\u001b[0m\n",
      "\u001b[1;32mc:\\dev\\python\\envs\\projetos\\lib\\site-packages\\folium\\map.py\u001b[0m in \u001b[0;36m__init__\u001b[1;34m(self, location, popup, tooltip, icon, draggable, **kwargs)\u001b[0m\n\u001b[0;32m    275\u001b[0m         \u001b[0msuper\u001b[0m\u001b[1;33m(\u001b[0m\u001b[0mMarker\u001b[0m\u001b[1;33m,\u001b[0m \u001b[0mself\u001b[0m\u001b[1;33m)\u001b[0m\u001b[1;33m.\u001b[0m\u001b[0m__init__\u001b[0m\u001b[1;33m(\u001b[0m\u001b[1;33m)\u001b[0m\u001b[1;33m\u001b[0m\u001b[1;33m\u001b[0m\u001b[0m\n\u001b[0;32m    276\u001b[0m         \u001b[0mself\u001b[0m\u001b[1;33m.\u001b[0m\u001b[0m_name\u001b[0m \u001b[1;33m=\u001b[0m \u001b[1;34m'Marker'\u001b[0m\u001b[1;33m\u001b[0m\u001b[1;33m\u001b[0m\u001b[0m\n\u001b[1;32m--> 277\u001b[1;33m         \u001b[0mself\u001b[0m\u001b[1;33m.\u001b[0m\u001b[0mlocation\u001b[0m \u001b[1;33m=\u001b[0m \u001b[0mvalidate_location\u001b[0m\u001b[1;33m(\u001b[0m\u001b[0mlocation\u001b[0m\u001b[1;33m)\u001b[0m \u001b[1;32mif\u001b[0m \u001b[0mlocation\u001b[0m \u001b[1;32melse\u001b[0m \u001b[1;32mNone\u001b[0m\u001b[1;33m\u001b[0m\u001b[1;33m\u001b[0m\u001b[0m\n\u001b[0m\u001b[0;32m    278\u001b[0m         self.options = parse_options(\n\u001b[0;32m    279\u001b[0m             \u001b[0mdraggable\u001b[0m\u001b[1;33m=\u001b[0m\u001b[0mdraggable\u001b[0m \u001b[1;32mor\u001b[0m \u001b[1;32mNone\u001b[0m\u001b[1;33m,\u001b[0m\u001b[1;33m\u001b[0m\u001b[1;33m\u001b[0m\u001b[0m\n",
      "\u001b[1;32mc:\\dev\\python\\envs\\projetos\\lib\\site-packages\\folium\\utilities.py\u001b[0m in \u001b[0;36mvalidate_location\u001b[1;34m(location)\u001b[0m\n\u001b[0;32m     64\u001b[0m                              .format(coord, type(coord)))\n\u001b[0;32m     65\u001b[0m         \u001b[1;32mif\u001b[0m \u001b[0mmath\u001b[0m\u001b[1;33m.\u001b[0m\u001b[0misnan\u001b[0m\u001b[1;33m(\u001b[0m\u001b[0mfloat\u001b[0m\u001b[1;33m(\u001b[0m\u001b[0mcoord\u001b[0m\u001b[1;33m)\u001b[0m\u001b[1;33m)\u001b[0m\u001b[1;33m:\u001b[0m\u001b[1;33m\u001b[0m\u001b[1;33m\u001b[0m\u001b[0m\n\u001b[1;32m---> 66\u001b[1;33m             \u001b[1;32mraise\u001b[0m \u001b[0mValueError\u001b[0m\u001b[1;33m(\u001b[0m\u001b[1;34m'Location values cannot contain NaNs.'\u001b[0m\u001b[1;33m)\u001b[0m\u001b[1;33m\u001b[0m\u001b[1;33m\u001b[0m\u001b[0m\n\u001b[0m\u001b[0;32m     67\u001b[0m     \u001b[1;32mreturn\u001b[0m \u001b[1;33m[\u001b[0m\u001b[0mfloat\u001b[0m\u001b[1;33m(\u001b[0m\u001b[0mx\u001b[0m\u001b[1;33m)\u001b[0m \u001b[1;32mfor\u001b[0m \u001b[0mx\u001b[0m \u001b[1;32min\u001b[0m \u001b[0mcoords\u001b[0m\u001b[1;33m]\u001b[0m\u001b[1;33m\u001b[0m\u001b[1;33m\u001b[0m\u001b[0m\n\u001b[0;32m     68\u001b[0m \u001b[1;33m\u001b[0m\u001b[0m\n",
      "\u001b[1;31mValueError\u001b[0m: Location values cannot contain NaNs."
     ]
    }
   ],
   "source": [
    "for index, creche in maps.iterrows():\r\n",
    "      valores = folium.Popup(\"Quantidade de módulos: \"+ str(creche['modules_number']) + \", Potência Total: \"+ str(creche['power_total']), \r\n",
    "                  max_width=300)\r\n",
    "      iconeCliente = folium.features.CustomIcon('https://raw.githubusercontent.com/LeonardoFdSantos/energens-map/main/MarcadorCliente_2.png', icon_size=(60,60), icon_anchor=(30,58), popup_anchor=(0,-55))\r\n",
    "      mc.add_child(folium.Marker([creche['latitude'], creche['longitude']],\r\n",
    "                  popup=(valores),\r\n",
    "                  tooltip=creche['cliente'],\r\n",
    "                  icon=(iconeCliente))).add_to(mapa)"
   ]
  },
  {
   "cell_type": "code",
   "execution_count": null,
   "metadata": {},
   "outputs": [],
   "source": [
    "mapa.save(outfile=\"index.html\")"
   ]
  },
  {
   "cell_type": "markdown",
   "metadata": {},
   "source": [
    "tiles=\"OpenStreetMap\",\r\n",
    "<link rel=\"sortcut icon\" href=\"https://raw.githubusercontent.com/LeonardoFdSantos/energens-map/main/energens-principal.png\" type=\"image/x-icon\" />\r\n"
   ]
  },
  {
   "cell_type": "code",
   "execution_count": null,
   "metadata": {},
   "outputs": [],
   "source": [
    "mapa"
   ]
  },
  {
   "cell_type": "code",
   "execution_count": null,
   "metadata": {},
   "outputs": [],
   "source": []
  }
 ],
 "metadata": {
  "kernelspec": {
   "display_name": "Python 3",
   "language": "python",
   "name": "python3"
  },
  "language_info": {
   "codemirror_mode": {
    "name": "ipython",
    "version": 3
   },
   "file_extension": ".py",
   "mimetype": "text/x-python",
   "name": "python",
   "nbconvert_exporter": "python",
   "pygments_lexer": "ipython3",
   "version": "3.8.7"
  }
 },
 "nbformat": 4,
 "nbformat_minor": 4
}
